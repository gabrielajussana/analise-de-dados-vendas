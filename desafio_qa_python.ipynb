{
 "cells": [
  {
   "cell_type": "markdown",
   "id": "5de9cba3",
   "metadata": {},
   "source": [
    "# 🧪 Desafio QA Python\n",
    "\n",
    "Use este notebook para implementar sua solução conforme descrito no README.md.\n",
    "\n"
   ]
  }
 ],
 "metadata": {
  "kernelspec": {
   "display_name": "Python 3",
   "language": "python",
   "name": "python3"
  },
  "language_info": {
   "codemirror_mode": {
    "name": "ipython",
    "version": 3
   },
   "file_extension": ".py",
   "mimetype": "text/x-python",
   "name": "python",
   "nbconvert_exporter": "python",
   "pygments_lexer": "ipython3",
   "version": "3.13.6"
  }
 },
 "nbformat": 4,
 "nbformat_minor": 5
}
